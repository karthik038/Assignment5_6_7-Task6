{
  "cells": [
    {
      "cell_type": "markdown",
      "metadata": {
        "id": "view-in-github",
        "colab_type": "text"
      },
      "source": [
        "<a href=\"https://colab.research.google.com/github/karthik038/Assignment5_6_7-Task6/blob/main/Assignment5_6_7.ipynb\" target=\"_parent\"><img src=\"https://colab.research.google.com/assets/colab-badge.svg\" alt=\"Open In Colab\"/></a>"
      ]
    },
    {
      "cell_type": "code",
      "execution_count": 3,
      "metadata": {
        "id": "Zo3mgvmeRy2F"
      },
      "outputs": [],
      "source": [
        "import pandas as pd\n",
        "import matplotlib.pyplot as plt\n",
        "import numpy as np\n",
        "from sklearn import linear_model"
      ]
    },
    {
      "cell_type": "markdown",
      "metadata": {
        "id": "StM9SmsHRy2K"
      },
      "source": [
        "# Assignment5\n"
      ]
    },
    {
      "cell_type": "markdown",
      "metadata": {
        "id": "eEIN5r20Ry2M"
      },
      "source": [
        "## Ground Cricket Chirps\n",
        "\n",
        "In _The Song of Insects_ (1948) by George W. Pierce, Pierce mechanically measured the frequency (the number of wing vibrations per second) of chirps (or pulses of sound) made by a striped ground cricket, at various ground temperatures.  Since crickets are ectotherms (cold-blooded), the rate of their physiological processes and their overall metabolism are influenced by temperature.  Consequently, there is reason to believe that temperature would have a profound effect on aspects of their behavior, such as chirp frequency.\n",
        "\n",
        "In general, it was found that crickets did not sing at temperatures colder than 60º F. or warmer than 100º F."
      ]
    },
    {
      "cell_type": "code",
      "execution_count": 4,
      "metadata": {
        "id": "uvr4hZ5lRy2N"
      },
      "outputs": [],
      "source": [
        "ground_cricket_data = {\"Chirps/Second\": [20.0, 16.0, 19.8, 18.4, 17.1, 15.5, 14.7,\n",
        "                                         15.7, 15.4, 16.3, 15.0, 17.2, 16.0, 17.0,\n",
        "                                         14.4],\n",
        "                       \"Ground Temperature\": [88.6, 71.6, 93.3, 84.3, 80.6, 75.2, 69.7,\n",
        "                                              71.6, 69.4, 83.3, 79.6, 82.6, 80.6, 83.5,\n",
        "                                              76.3]}\n",
        "df = pd.DataFrame(ground_cricket_data)"
      ]
    },
    {
      "cell_type": "markdown",
      "metadata": {
        "id": "aReMAtTvRy2O"
      },
      "source": [
        "### Tasks\n",
        "\n",
        "1. Find the linear regression equation for this data.\n",
        "2. Chart the original data and the equation on the chart.\n",
        "3. Find the equation's $R^2$ score (use the `.score` method) to determine whether the\n",
        "equation is a good fit for this data. (0.8 and greater is considered a strong correlation.)\n",
        "4. Extrapolate data:  If the ground temperature reached 95, then at what approximate rate would you expect the crickets to be chirping?\n",
        "5. Interpolate data:  With a listening device, you discovered that on a particular morning the crickets were chirping at a rate of 18 chirps per second.  What was the approximate ground temperature that morning? "
      ]
    },
    {
      "cell_type": "code",
      "source": [
        "gr_temp = df[['Ground Temperature']]\n",
        "chirps_per_sec = df[['Chirps/Second']]\n",
        "\n",
        "chirps_per_sec.head()"
      ],
      "metadata": {
        "id": "DK5jYxV0R-Wt",
        "outputId": "6e485b24-3e94-4ea6-b176-8e6927ab6e40",
        "colab": {
          "base_uri": "https://localhost:8080/",
          "height": 204
        }
      },
      "execution_count": 5,
      "outputs": [
        {
          "output_type": "execute_result",
          "data": {
            "text/plain": [
              "   Chirps/Second\n",
              "0           20.0\n",
              "1           16.0\n",
              "2           19.8\n",
              "3           18.4\n",
              "4           17.1"
            ],
            "text/html": [
              "\n",
              "  <div id=\"df-32f8764e-cd0b-4f1a-84e5-e1f270511b8d\">\n",
              "    <div class=\"colab-df-container\">\n",
              "      <div>\n",
              "<style scoped>\n",
              "    .dataframe tbody tr th:only-of-type {\n",
              "        vertical-align: middle;\n",
              "    }\n",
              "\n",
              "    .dataframe tbody tr th {\n",
              "        vertical-align: top;\n",
              "    }\n",
              "\n",
              "    .dataframe thead th {\n",
              "        text-align: right;\n",
              "    }\n",
              "</style>\n",
              "<table border=\"1\" class=\"dataframe\">\n",
              "  <thead>\n",
              "    <tr style=\"text-align: right;\">\n",
              "      <th></th>\n",
              "      <th>Chirps/Second</th>\n",
              "    </tr>\n",
              "  </thead>\n",
              "  <tbody>\n",
              "    <tr>\n",
              "      <th>0</th>\n",
              "      <td>20.0</td>\n",
              "    </tr>\n",
              "    <tr>\n",
              "      <th>1</th>\n",
              "      <td>16.0</td>\n",
              "    </tr>\n",
              "    <tr>\n",
              "      <th>2</th>\n",
              "      <td>19.8</td>\n",
              "    </tr>\n",
              "    <tr>\n",
              "      <th>3</th>\n",
              "      <td>18.4</td>\n",
              "    </tr>\n",
              "    <tr>\n",
              "      <th>4</th>\n",
              "      <td>17.1</td>\n",
              "    </tr>\n",
              "  </tbody>\n",
              "</table>\n",
              "</div>\n",
              "      <button class=\"colab-df-convert\" onclick=\"convertToInteractive('df-32f8764e-cd0b-4f1a-84e5-e1f270511b8d')\"\n",
              "              title=\"Convert this dataframe to an interactive table.\"\n",
              "              style=\"display:none;\">\n",
              "        \n",
              "  <svg xmlns=\"http://www.w3.org/2000/svg\" height=\"24px\"viewBox=\"0 0 24 24\"\n",
              "       width=\"24px\">\n",
              "    <path d=\"M0 0h24v24H0V0z\" fill=\"none\"/>\n",
              "    <path d=\"M18.56 5.44l.94 2.06.94-2.06 2.06-.94-2.06-.94-.94-2.06-.94 2.06-2.06.94zm-11 1L8.5 8.5l.94-2.06 2.06-.94-2.06-.94L8.5 2.5l-.94 2.06-2.06.94zm10 10l.94 2.06.94-2.06 2.06-.94-2.06-.94-.94-2.06-.94 2.06-2.06.94z\"/><path d=\"M17.41 7.96l-1.37-1.37c-.4-.4-.92-.59-1.43-.59-.52 0-1.04.2-1.43.59L10.3 9.45l-7.72 7.72c-.78.78-.78 2.05 0 2.83L4 21.41c.39.39.9.59 1.41.59.51 0 1.02-.2 1.41-.59l7.78-7.78 2.81-2.81c.8-.78.8-2.07 0-2.86zM5.41 20L4 18.59l7.72-7.72 1.47 1.35L5.41 20z\"/>\n",
              "  </svg>\n",
              "      </button>\n",
              "      \n",
              "  <style>\n",
              "    .colab-df-container {\n",
              "      display:flex;\n",
              "      flex-wrap:wrap;\n",
              "      gap: 12px;\n",
              "    }\n",
              "\n",
              "    .colab-df-convert {\n",
              "      background-color: #E8F0FE;\n",
              "      border: none;\n",
              "      border-radius: 50%;\n",
              "      cursor: pointer;\n",
              "      display: none;\n",
              "      fill: #1967D2;\n",
              "      height: 32px;\n",
              "      padding: 0 0 0 0;\n",
              "      width: 32px;\n",
              "    }\n",
              "\n",
              "    .colab-df-convert:hover {\n",
              "      background-color: #E2EBFA;\n",
              "      box-shadow: 0px 1px 2px rgba(60, 64, 67, 0.3), 0px 1px 3px 1px rgba(60, 64, 67, 0.15);\n",
              "      fill: #174EA6;\n",
              "    }\n",
              "\n",
              "    [theme=dark] .colab-df-convert {\n",
              "      background-color: #3B4455;\n",
              "      fill: #D2E3FC;\n",
              "    }\n",
              "\n",
              "    [theme=dark] .colab-df-convert:hover {\n",
              "      background-color: #434B5C;\n",
              "      box-shadow: 0px 1px 3px 1px rgba(0, 0, 0, 0.15);\n",
              "      filter: drop-shadow(0px 1px 2px rgba(0, 0, 0, 0.3));\n",
              "      fill: #FFFFFF;\n",
              "    }\n",
              "  </style>\n",
              "\n",
              "      <script>\n",
              "        const buttonEl =\n",
              "          document.querySelector('#df-32f8764e-cd0b-4f1a-84e5-e1f270511b8d button.colab-df-convert');\n",
              "        buttonEl.style.display =\n",
              "          google.colab.kernel.accessAllowed ? 'block' : 'none';\n",
              "\n",
              "        async function convertToInteractive(key) {\n",
              "          const element = document.querySelector('#df-32f8764e-cd0b-4f1a-84e5-e1f270511b8d');\n",
              "          const dataTable =\n",
              "            await google.colab.kernel.invokeFunction('convertToInteractive',\n",
              "                                                     [key], {});\n",
              "          if (!dataTable) return;\n",
              "\n",
              "          const docLinkHtml = 'Like what you see? Visit the ' +\n",
              "            '<a target=\"_blank\" href=https://colab.research.google.com/notebooks/data_table.ipynb>data table notebook</a>'\n",
              "            + ' to learn more about interactive tables.';\n",
              "          element.innerHTML = '';\n",
              "          dataTable['output_type'] = 'display_data';\n",
              "          await google.colab.output.renderOutput(dataTable, element);\n",
              "          const docLink = document.createElement('div');\n",
              "          docLink.innerHTML = docLinkHtml;\n",
              "          element.appendChild(docLink);\n",
              "        }\n",
              "      </script>\n",
              "    </div>\n",
              "  </div>\n",
              "  "
            ]
          },
          "metadata": {},
          "execution_count": 5
        }
      ]
    },
    {
      "cell_type": "code",
      "source": [
        "regressor = linear_model.LinearRegression()\n",
        "regressor.fit(gr_temp, chirps_per_sec)"
      ],
      "metadata": {
        "id": "Tjv7rfwqSJ9L",
        "outputId": "0f420f85-15ae-48eb-f3f0-72aa6bf6a19f",
        "colab": {
          "base_uri": "https://localhost:8080/"
        }
      },
      "execution_count": 6,
      "outputs": [
        {
          "output_type": "execute_result",
          "data": {
            "text/plain": [
              "LinearRegression()"
            ]
          },
          "metadata": {},
          "execution_count": 6
        }
      ]
    },
    {
      "cell_type": "markdown",
      "source": [
        "### Ground Cricket Chirps, Task 1"
      ],
      "metadata": {
        "id": "CtVZNMhQSPqN"
      }
    },
    {
      "cell_type": "code",
      "source": [
        "print('Intercept:', regressor.intercept_)\n",
        "print('Coefficient:', regressor.coef_)"
      ],
      "metadata": {
        "id": "U1dEyk_qSM5w",
        "outputId": "f73ea219-58ff-45aa-fb61-9522175507f6",
        "colab": {
          "base_uri": "https://localhost:8080/"
        }
      },
      "execution_count": 7,
      "outputs": [
        {
          "output_type": "stream",
          "name": "stdout",
          "text": [
            "Intercept: [0.45931465]\n",
            "Coefficient: [[0.20299973]]\n"
          ]
        }
      ]
    },
    {
      "cell_type": "code",
      "source": [
        "print('Linear Regression Equation: y = {:.4f} * x + {:.4f}'\n",
        "      .format(float(regressor.coef_[0]), float(regressor.intercept_)))"
      ],
      "metadata": {
        "id": "NGilf3HZSWN-",
        "outputId": "73ac38c6-edff-4f40-c866-92d2d35bc07b",
        "colab": {
          "base_uri": "https://localhost:8080/"
        }
      },
      "execution_count": 8,
      "outputs": [
        {
          "output_type": "stream",
          "name": "stdout",
          "text": [
            "Linear Regression Equation: y = 0.2030 * x + 0.4593\n"
          ]
        }
      ]
    },
    {
      "cell_type": "markdown",
      "source": [
        "### Ground Cricket Chirps, Task 2"
      ],
      "metadata": {
        "id": "KWYwtr15SdWV"
      }
    },
    {
      "cell_type": "code",
      "source": [
        "plt.scatter(gr_temp, chirps_per_sec, color='r')\n",
        "plt.plot(gr_temp, regressor.predict(gr_temp))\n",
        "plt.xlabel('Ground Temperature')\n",
        "plt.ylabel('Chirps/Second')\n",
        "plt.show()"
      ],
      "metadata": {
        "id": "bi2xBNO8SZj7",
        "outputId": "1cf8aedd-ef44-4206-8f49-df9260bf9ed0",
        "colab": {
          "base_uri": "https://localhost:8080/",
          "height": 279
        }
      },
      "execution_count": 9,
      "outputs": [
        {
          "output_type": "display_data",
          "data": {
            "text/plain": [
              "<Figure size 432x288 with 1 Axes>"
            ],
            "image/png": "[encoded data removed]"
          },
          "metadata": {
            "needs_background": "light"
          }
        }
      ]
    },
    {
      "cell_type": "markdown",
      "source": [
        "### Ground Cricket Chirps, Task 3"
      ],
      "metadata": {
        "id": "xeTHfOXlSmVX"
      }
    },
    {
      "cell_type": "code",
      "source": [
        "print('R-squared: ', round(regressor.score(gr_temp, chirps_per_sec), 3))"
      ],
      "metadata": {
        "id": "0lCgVyNUSjnl",
        "outputId": "95eb27ba-88ce-4533-8a06-9f59d02296ff",
        "colab": {
          "base_uri": "https://localhost:8080/"
        }
      },
      "execution_count": 10,
      "outputs": [
        {
          "output_type": "stream",
          "name": "stdout",
          "text": [
            "R-squared:  0.692\n"
          ]
        }
      ]
    },
    {
      "cell_type": "markdown",
      "source": [
        "### Ground Cricket Chirps, Task 4\n"
      ],
      "metadata": {
        "id": "NnN9lZFFSr_S"
      }
    },
    {
      "cell_type": "code",
      "source": [
        "print('If the ground temperature reached 95, the approximate chirps/second would be: {:.4f}'.format(float(regressor.predict([[95]])[0])))"
      ],
      "metadata": {
        "id": "4-xtWOSaSxIJ",
        "outputId": "06003691-270f-4bad-e4ab-32ede0884061",
        "colab": {
          "base_uri": "https://localhost:8080/"
        }
      },
      "execution_count": 12,
      "outputs": [
        {
          "output_type": "stream",
          "name": "stdout",
          "text": [
            "If the ground temperature reached 95, the approximate chirps/second would be: 19.7443\n"
          ]
        },
        {
          "output_type": "stream",
          "name": "stderr",
          "text": [
            "/usr/local/lib/python3.7/dist-packages/sklearn/base.py:451: UserWarning: X does not have valid feature names, but LinearRegression was fitted with feature names\n",
            "  \"X does not have valid feature names, but\"\n"
          ]
        }
      ]
    },
    {
      "cell_type": "markdown",
      "source": [
        "### Ground Cricket Chirps, Task 5"
      ],
      "metadata": {
        "id": "Skf7YRc7S8ES"
      }
    },
    {
      "cell_type": "code",
      "source": [
        "exp_temp = (18 - regressor.intercept_) / regressor.coef_\n",
        "print('With an observation of 18 chirps/second','expected ground temperature is of {:.3f}˚F'.format(float(exp_temp)))"
      ],
      "metadata": {
        "id": "h9RnsAwHS-kr",
        "outputId": "3c602a3b-32d1-4279-a695-e3df17b4f729",
        "colab": {
          "base_uri": "https://localhost:8080/"
        }
      },
      "execution_count": 14,
      "outputs": [
        {
          "output_type": "stream",
          "name": "stdout",
          "text": [
            "With an observation of 18 chirps/second expected ground temperature is of 86.407˚F\n"
          ]
        }
      ]
    },
    {
      "cell_type": "markdown",
      "metadata": {
        "id": "ON-3c7EFRy2O"
      },
      "source": [
        "# Assignment6"
      ]
    },
    {
      "cell_type": "markdown",
      "metadata": {
        "id": "C96ScpklRy2P"
      },
      "source": [
        "## Brain vs. Body Weight\n",
        "\n",
        "In the file `brain_body.txt`, the average brain and body weight for a number of mammal species are recorded. Load this data into a Pandas data frame.\n",
        "\n",
        "### Tasks\n",
        "\n",
        "1. Find the linear regression equation for this data for brain weight to body weight.\n",
        "2. Chart the original data and the equation on the chart.\n",
        "3. Find the equation's $R^2$ score (use the `.score` method) to determine whether the\n",
        "equation is a good fit for this data. (0.8 and greater is considered a strong correlation.)"
      ]
    },
    {
      "cell_type": "code",
      "execution_count": 16,
      "metadata": {
        "id": "fiaxi_vaRy2Q",
        "outputId": "4d745004-38e4-43d8-84c1-fefc91ac820e",
        "colab": {
          "base_uri": "https://localhost:8080/",
          "height": 204
        }
      },
      "outputs": [
        {
          "output_type": "execute_result",
          "data": {
            "text/plain": [
              "     Brain   Body\n",
              "0    3.385   44.5\n",
              "1    0.480   15.5\n",
              "2    1.350    8.1\n",
              "3  465.000  423.0\n",
              "4   36.330  119.5"
            ],
            "text/html": [
              "\n",
              "  <div id=\"df-a83e000a-9719-446b-aacb-3ee95cdb5d2d\">\n",
              "    <div class=\"colab-df-container\">\n",
              "      <div>\n",
              "<style scoped>\n",
              "    .dataframe tbody tr th:only-of-type {\n",
              "        vertical-align: middle;\n",
              "    }\n",
              "\n",
              "    .dataframe tbody tr th {\n",
              "        vertical-align: top;\n",
              "    }\n",
              "\n",
              "    .dataframe thead th {\n",
              "        text-align: right;\n",
              "    }\n",
              "</style>\n",
              "<table border=\"1\" class=\"dataframe\">\n",
              "  <thead>\n",
              "    <tr style=\"text-align: right;\">\n",
              "      <th></th>\n",
              "      <th>Brain</th>\n",
              "      <th>Body</th>\n",
              "    </tr>\n",
              "  </thead>\n",
              "  <tbody>\n",
              "    <tr>\n",
              "      <th>0</th>\n",
              "      <td>3.385</td>\n",
              "      <td>44.5</td>\n",
              "    </tr>\n",
              "    <tr>\n",
              "      <th>1</th>\n",
              "      <td>0.480</td>\n",
              "      <td>15.5</td>\n",
              "    </tr>\n",
              "    <tr>\n",
              "      <th>2</th>\n",
              "      <td>1.350</td>\n",
              "      <td>8.1</td>\n",
              "    </tr>\n",
              "    <tr>\n",
              "      <th>3</th>\n",
              "      <td>465.000</td>\n",
              "      <td>423.0</td>\n",
              "    </tr>\n",
              "    <tr>\n",
              "      <th>4</th>\n",
              "      <td>36.330</td>\n",
              "      <td>119.5</td>\n",
              "    </tr>\n",
              "  </tbody>\n",
              "</table>\n",
              "</div>\n",
              "      <button class=\"colab-df-convert\" onclick=\"convertToInteractive('df-a83e000a-9719-446b-aacb-3ee95cdb5d2d')\"\n",
              "              title=\"Convert this dataframe to an interactive table.\"\n",
              "              style=\"display:none;\">\n",
              "        \n",
              "  <svg xmlns=\"http://www.w3.org/2000/svg\" height=\"24px\"viewBox=\"0 0 24 24\"\n",
              "       width=\"24px\">\n",
              "    <path d=\"M0 0h24v24H0V0z\" fill=\"none\"/>\n",
              "    <path d=\"M18.56 5.44l.94 2.06.94-2.06 2.06-.94-2.06-.94-.94-2.06-.94 2.06-2.06.94zm-11 1L8.5 8.5l.94-2.06 2.06-.94-2.06-.94L8.5 2.5l-.94 2.06-2.06.94zm10 10l.94 2.06.94-2.06 2.06-.94-2.06-.94-.94-2.06-.94 2.06-2.06.94z\"/><path d=\"M17.41 7.96l-1.37-1.37c-.4-.4-.92-.59-1.43-.59-.52 0-1.04.2-1.43.59L10.3 9.45l-7.72 7.72c-.78.78-.78 2.05 0 2.83L4 21.41c.39.39.9.59 1.41.59.51 0 1.02-.2 1.41-.59l7.78-7.78 2.81-2.81c.8-.78.8-2.07 0-2.86zM5.41 20L4 18.59l7.72-7.72 1.47 1.35L5.41 20z\"/>\n",
              "  </svg>\n",
              "      </button>\n",
              "      \n",
              "  <style>\n",
              "    .colab-df-container {\n",
              "      display:flex;\n",
              "      flex-wrap:wrap;\n",
              "      gap: 12px;\n",
              "    }\n",
              "\n",
              "    .colab-df-convert {\n",
              "      background-color: #E8F0FE;\n",
              "      border: none;\n",
              "      border-radius: 50%;\n",
              "      cursor: pointer;\n",
              "      display: none;\n",
              "      fill: #1967D2;\n",
              "      height: 32px;\n",
              "      padding: 0 0 0 0;\n",
              "      width: 32px;\n",
              "    }\n",
              "\n",
              "    .colab-df-convert:hover {\n",
              "      background-color: #E2EBFA;\n",
              "      box-shadow: 0px 1px 2px rgba(60, 64, 67, 0.3), 0px 1px 3px 1px rgba(60, 64, 67, 0.15);\n",
              "      fill: #174EA6;\n",
              "    }\n",
              "\n",
              "    [theme=dark] .colab-df-convert {\n",
              "      background-color: #3B4455;\n",
              "      fill: #D2E3FC;\n",
              "    }\n",
              "\n",
              "    [theme=dark] .colab-df-convert:hover {\n",
              "      background-color: #434B5C;\n",
              "      box-shadow: 0px 1px 3px 1px rgba(0, 0, 0, 0.15);\n",
              "      filter: drop-shadow(0px 1px 2px rgba(0, 0, 0, 0.3));\n",
              "      fill: #FFFFFF;\n",
              "    }\n",
              "  </style>\n",
              "\n",
              "      <script>\n",
              "        const buttonEl =\n",
              "          document.querySelector('#df-a83e000a-9719-446b-aacb-3ee95cdb5d2d button.colab-df-convert');\n",
              "        buttonEl.style.display =\n",
              "          google.colab.kernel.accessAllowed ? 'block' : 'none';\n",
              "\n",
              "        async function convertToInteractive(key) {\n",
              "          const element = document.querySelector('#df-a83e000a-9719-446b-aacb-3ee95cdb5d2d');\n",
              "          const dataTable =\n",
              "            await google.colab.kernel.invokeFunction('convertToInteractive',\n",
              "                                                     [key], {});\n",
              "          if (!dataTable) return;\n",
              "\n",
              "          const docLinkHtml = 'Like what you see? Visit the ' +\n",
              "            '<a target=\"_blank\" href=https://colab.research.google.com/notebooks/data_table.ipynb>data table notebook</a>'\n",
              "            + ' to learn more about interactive tables.';\n",
              "          element.innerHTML = '';\n",
              "          dataTable['output_type'] = 'display_data';\n",
              "          await google.colab.output.renderOutput(dataTable, element);\n",
              "          const docLink = document.createElement('div');\n",
              "          docLink.innerHTML = docLinkHtml;\n",
              "          element.appendChild(docLink);\n",
              "        }\n",
              "      </script>\n",
              "    </div>\n",
              "  </div>\n",
              "  "
            ]
          },
          "metadata": {},
          "execution_count": 16
        }
      ],
      "source": [
        "df = pd.read_fwf(\"brain_body.txt\")\n",
        "df.head()"
      ]
    },
    {
      "cell_type": "code",
      "source": [
        "body = df[['Body']]\n",
        "brain = df[['Brain']]\n",
        "\n",
        "body.head()\n",
        "brain.head()"
      ],
      "metadata": {
        "id": "ZARsc4QcT9EK",
        "outputId": "51efa791-e837-48fd-915a-916df5297da2",
        "colab": {
          "base_uri": "https://localhost:8080/",
          "height": 204
        }
      },
      "execution_count": 17,
      "outputs": [
        {
          "output_type": "execute_result",
          "data": {
            "text/plain": [
              "     Brain\n",
              "0    3.385\n",
              "1    0.480\n",
              "2    1.350\n",
              "3  465.000\n",
              "4   36.330"
            ],
            "text/html": [
              "\n",
              "  <div id=\"df-a3709785-1307-4a60-a248-1184e0efdba0\">\n",
              "    <div class=\"colab-df-container\">\n",
              "      <div>\n",
              "<style scoped>\n",
              "    .dataframe tbody tr th:only-of-type {\n",
              "        vertical-align: middle;\n",
              "    }\n",
              "\n",
              "    .dataframe tbody tr th {\n",
              "        vertical-align: top;\n",
              "    }\n",
              "\n",
              "    .dataframe thead th {\n",
              "        text-align: right;\n",
              "    }\n",
              "</style>\n",
              "<table border=\"1\" class=\"dataframe\">\n",
              "  <thead>\n",
              "    <tr style=\"text-align: right;\">\n",
              "      <th></th>\n",
              "      <th>Brain</th>\n",
              "    </tr>\n",
              "  </thead>\n",
              "  <tbody>\n",
              "    <tr>\n",
              "      <th>0</th>\n",
              "      <td>3.385</td>\n",
              "    </tr>\n",
              "    <tr>\n",
              "      <th>1</th>\n",
              "      <td>0.480</td>\n",
              "    </tr>\n",
              "    <tr>\n",
              "      <th>2</th>\n",
              "      <td>1.350</td>\n",
              "    </tr>\n",
              "    <tr>\n",
              "      <th>3</th>\n",
              "      <td>465.000</td>\n",
              "    </tr>\n",
              "    <tr>\n",
              "      <th>4</th>\n",
              "      <td>36.330</td>\n",
              "    </tr>\n",
              "  </tbody>\n",
              "</table>\n",
              "</div>\n",
              "      <button class=\"colab-df-convert\" onclick=\"convertToInteractive('df-a3709785-1307-4a60-a248-1184e0efdba0')\"\n",
              "              title=\"Convert this dataframe to an interactive table.\"\n",
              "              style=\"display:none;\">\n",
              "        \n",
              "  <svg xmlns=\"http://www.w3.org/2000/svg\" height=\"24px\"viewBox=\"0 0 24 24\"\n",
              "       width=\"24px\">\n",
              "    <path d=\"M0 0h24v24H0V0z\" fill=\"none\"/>\n",
              "    <path d=\"M18.56 5.44l.94 2.06.94-2.06 2.06-.94-2.06-.94-.94-2.06-.94 2.06-2.06.94zm-11 1L8.5 8.5l.94-2.06 2.06-.94-2.06-.94L8.5 2.5l-.94 2.06-2.06.94zm10 10l.94 2.06.94-2.06 2.06-.94-2.06-.94-.94-2.06-.94 2.06-2.06.94z\"/><path d=\"M17.41 7.96l-1.37-1.37c-.4-.4-.92-.59-1.43-.59-.52 0-1.04.2-1.43.59L10.3 9.45l-7.72 7.72c-.78.78-.78 2.05 0 2.83L4 21.41c.39.39.9.59 1.41.59.51 0 1.02-.2 1.41-.59l7.78-7.78 2.81-2.81c.8-.78.8-2.07 0-2.86zM5.41 20L4 18.59l7.72-7.72 1.47 1.35L5.41 20z\"/>\n",
              "  </svg>\n",
              "      </button>\n",
              "      \n",
              "  <style>\n",
              "    .colab-df-container {\n",
              "      display:flex;\n",
              "      flex-wrap:wrap;\n",
              "      gap: 12px;\n",
              "    }\n",
              "\n",
              "    .colab-df-convert {\n",
              "      background-color: #E8F0FE;\n",
              "      border: none;\n",
              "      border-radius: 50%;\n",
              "      cursor: pointer;\n",
              "      display: none;\n",
              "      fill: #1967D2;\n",
              "      height: 32px;\n",
              "      padding: 0 0 0 0;\n",
              "      width: 32px;\n",
              "    }\n",
              "\n",
              "    .colab-df-convert:hover {\n",
              "      background-color: #E2EBFA;\n",
              "      box-shadow: 0px 1px 2px rgba(60, 64, 67, 0.3), 0px 1px 3px 1px rgba(60, 64, 67, 0.15);\n",
              "      fill: #174EA6;\n",
              "    }\n",
              "\n",
              "    [theme=dark] .colab-df-convert {\n",
              "      background-color: #3B4455;\n",
              "      fill: #D2E3FC;\n",
              "    }\n",
              "\n",
              "    [theme=dark] .colab-df-convert:hover {\n",
              "      background-color: #434B5C;\n",
              "      box-shadow: 0px 1px 3px 1px rgba(0, 0, 0, 0.15);\n",
              "      filter: drop-shadow(0px 1px 2px rgba(0, 0, 0, 0.3));\n",
              "      fill: #FFFFFF;\n",
              "    }\n",
              "  </style>\n",
              "\n",
              "      <script>\n",
              "        const buttonEl =\n",
              "          document.querySelector('#df-a3709785-1307-4a60-a248-1184e0efdba0 button.colab-df-convert');\n",
              "        buttonEl.style.display =\n",
              "          google.colab.kernel.accessAllowed ? 'block' : 'none';\n",
              "\n",
              "        async function convertToInteractive(key) {\n",
              "          const element = document.querySelector('#df-a3709785-1307-4a60-a248-1184e0efdba0');\n",
              "          const dataTable =\n",
              "            await google.colab.kernel.invokeFunction('convertToInteractive',\n",
              "                                                     [key], {});\n",
              "          if (!dataTable) return;\n",
              "\n",
              "          const docLinkHtml = 'Like what you see? Visit the ' +\n",
              "            '<a target=\"_blank\" href=https://colab.research.google.com/notebooks/data_table.ipynb>data table notebook</a>'\n",
              "            + ' to learn more about interactive tables.';\n",
              "          element.innerHTML = '';\n",
              "          dataTable['output_type'] = 'display_data';\n",
              "          await google.colab.output.renderOutput(dataTable, element);\n",
              "          const docLink = document.createElement('div');\n",
              "          docLink.innerHTML = docLinkHtml;\n",
              "          element.appendChild(docLink);\n",
              "        }\n",
              "      </script>\n",
              "    </div>\n",
              "  </div>\n",
              "  "
            ]
          },
          "metadata": {},
          "execution_count": 17
        }
      ]
    },
    {
      "cell_type": "code",
      "source": [
        "bb_regressor = linear_model.LinearRegression()"
      ],
      "metadata": {
        "id": "5t-ZhlolUCZo"
      },
      "execution_count": 18,
      "outputs": []
    },
    {
      "cell_type": "code",
      "source": [
        "bb_regressor.fit(brain, body)"
      ],
      "metadata": {
        "id": "x-xTdj5YUFf8",
        "outputId": "222be21e-06fa-4cfc-ab28-7d93bb745c52",
        "colab": {
          "base_uri": "https://localhost:8080/"
        }
      },
      "execution_count": 19,
      "outputs": [
        {
          "output_type": "execute_result",
          "data": {
            "text/plain": [
              "LinearRegression()"
            ]
          },
          "metadata": {},
          "execution_count": 19
        }
      ]
    },
    {
      "cell_type": "markdown",
      "source": [
        "### Brain vs. Body Weight, Task 1"
      ],
      "metadata": {
        "id": "E3051468UGlR"
      }
    },
    {
      "cell_type": "code",
      "source": [
        "print('Intercept:', bb_regressor.intercept_)\n",
        "print('Coefficient:', bb_regressor.coef_)"
      ],
      "metadata": {
        "id": "WeZxwYwlUNj6",
        "outputId": "16f35d14-4be0-41be-f218-b0b35e080919",
        "colab": {
          "base_uri": "https://localhost:8080/"
        }
      },
      "execution_count": 20,
      "outputs": [
        {
          "output_type": "stream",
          "name": "stdout",
          "text": [
            "Intercept: [91.00439621]\n",
            "Coefficient: [[0.96649637]]\n"
          ]
        }
      ]
    },
    {
      "cell_type": "code",
      "source": [
        "print('Linear Regression Equation: y = {:.4f} * x + {:.3f}'\n",
        "      .format(float(bb_regressor.coef_[0]), float(bb_regressor.intercept_)))"
      ],
      "metadata": {
        "id": "lHi6LqxWUS3B",
        "outputId": "c29195b1-d848-41a4-d215-6c2caabfb106",
        "colab": {
          "base_uri": "https://localhost:8080/"
        }
      },
      "execution_count": 21,
      "outputs": [
        {
          "output_type": "stream",
          "name": "stdout",
          "text": [
            "Linear Regression Equation: y = 0.9665 * x + 91.004\n"
          ]
        }
      ]
    },
    {
      "cell_type": "markdown",
      "source": [
        "### Brain vs. Body Weight, Task 2"
      ],
      "metadata": {
        "id": "MyfuQjcBUWXl"
      }
    },
    {
      "cell_type": "code",
      "source": [
        "plt.scatter(brain, body, color='g')\n",
        "plt.plot(brain, bb_regressor.predict(brain), color='lightblue')\n",
        "plt.xlabel('Body Weight')\n",
        "plt.ylabel('Brain Weight')\n",
        "plt.show()"
      ],
      "metadata": {
        "id": "8wY_l4kfUYAd",
        "outputId": "cea9e52b-59ae-408d-f923-f7056bd1d95c",
        "colab": {
          "base_uri": "https://localhost:8080/",
          "height": 279
        }
      },
      "execution_count": 23,
      "outputs": [
        {
          "output_type": "display_data",
          "data": {
            "text/plain": [
              "<Figure size 432x288 with 1 Axes>"
            ],
            "image/png": "[encoded data removed]"
          },
          "metadata": {
            "needs_background": "light"
          }
        }
      ]
    },
    {
      "cell_type": "markdown",
      "source": [
        "### Brain vs. Body Weight, Task 3"
      ],
      "metadata": {
        "id": "43fDe0TDUeg9"
      }
    },
    {
      "cell_type": "code",
      "source": [
        "print('R-squared: ', round(bb_regressor.score(brain, body), 3))"
      ],
      "metadata": {
        "id": "ihvRj7CBUf5q",
        "outputId": "f6950d46-f2f1-41ce-9d79-a357d10ba702",
        "colab": {
          "base_uri": "https://localhost:8080/"
        }
      },
      "execution_count": 24,
      "outputs": [
        {
          "output_type": "stream",
          "name": "stdout",
          "text": [
            "R-squared:  0.873\n"
          ]
        }
      ]
    },
    {
      "cell_type": "markdown",
      "metadata": {
        "id": "fR7bHZj8Ry2R"
      },
      "source": [
        "# Assignment7"
      ]
    },
    {
      "cell_type": "markdown",
      "metadata": {
        "id": "9i0Ev8jnRy2R"
      },
      "source": [
        "## Salary Discrimination\n",
        "\n",
        "The file `salary.txt` contains data for 52 tenure-track professors at a small Midwestern college. This data was used in legal proceedings in the 1980s about discrimination against women in salary.\n",
        "\n",
        "The data in the file, by column:\n",
        "\n",
        "1. Sex. 1 for female, 0 for male.\n",
        "2. Rank. 1 for assistant professor, 2 for associate professor, 3 for full professor.\n",
        "3. Year. Number of years in current rank.\n",
        "4. Degree. Highest degree. 1 for doctorate, 0 for master's.\n",
        "5. YSdeg. Years since highest degree was earned.\n",
        "6. Salary. Salary/year in dollars.\n",
        "\n",
        "### Tasks\n",
        "\n",
        "1. Find the linear regression equation for this data using columns 1-5 to column 6.\n",
        "2. Find the selection of columns with the best $R^2$ score.\n",
        "3. Report whether sex is a factor in salary."
      ]
    },
    {
      "cell_type": "code",
      "execution_count": 25,
      "metadata": {
        "id": "_1SXZrdjRy2S"
      },
      "outputs": [],
      "source": [
        "df = pd.read_fwf(\"salary.txt\", header=None, \n",
        "                 names=[\"Sex\", \"Rank\", \"Year\", \"Degree\", \"YSdeg\", \"Salary\"])"
      ]
    },
    {
      "cell_type": "code",
      "source": [
        "salary_ft_cols = df[[\"Sex\", \"Rank\", \"Year\", \"Degree\", \"YSdeg\"]]\n",
        "salary = df[['Salary']]"
      ],
      "metadata": {
        "id": "CfOn020tUpp0"
      },
      "execution_count": 26,
      "outputs": []
    },
    {
      "cell_type": "code",
      "source": [
        "sd_regressor = linear_model.LinearRegression()\n",
        "sd_regressor.fit(salary_ft_cols, salary)"
      ],
      "metadata": {
        "id": "cyLW5zPAUsWn",
        "outputId": "e11e2dd4-cd21-4ec4-fb34-feeb5da4b596",
        "colab": {
          "base_uri": "https://localhost:8080/"
        }
      },
      "execution_count": 27,
      "outputs": [
        {
          "output_type": "execute_result",
          "data": {
            "text/plain": [
              "LinearRegression()"
            ]
          },
          "metadata": {},
          "execution_count": 27
        }
      ]
    },
    {
      "cell_type": "markdown",
      "source": [
        "### Salary Discrimination, Task 1"
      ],
      "metadata": {
        "id": "Z7sST5zQUxQi"
      }
    },
    {
      "cell_type": "code",
      "source": [
        "print('Intercept:', sd_regressor.intercept_)\n",
        "print('Coefficients:', sd_regressor.coef_)"
      ],
      "metadata": {
        "id": "GBvcvE40Uu01",
        "outputId": "d7695520-27a8-4a80-e466-d8eed5ec8e5e",
        "colab": {
          "base_uri": "https://localhost:8080/"
        }
      },
      "execution_count": 28,
      "outputs": [
        {
          "output_type": "stream",
          "name": "stdout",
          "text": [
            "Intercept: [11410.14654726]\n",
            "Coefficients: [[ 1241.7924996   5586.18144952   482.85976783 -1331.64406341\n",
            "   -128.79057354]]\n"
          ]
        }
      ]
    },
    {
      "cell_type": "code",
      "source": [
        "salary_ft_cols_names = [\"Sex\", \"Rank\", \"Year\", \"Degree\", \"YSdeg\"]\n",
        "\n",
        "print('The equation for columns {} with respect to Salary:\\n'\n",
        "      '{} + {}'.format(salary_ft_cols_names, sd_regressor.coef_, sd_regressor.intercept_))"
      ],
      "metadata": {
        "id": "AOx9IuyGU19u",
        "outputId": "97eda5ea-9f9c-449c-8b69-151bea75fd1d",
        "colab": {
          "base_uri": "https://localhost:8080/"
        }
      },
      "execution_count": 29,
      "outputs": [
        {
          "output_type": "stream",
          "name": "stdout",
          "text": [
            "The equation for columns ['Sex', 'Rank', 'Year', 'Degree', 'YSdeg'] with respect to Salary:\n",
            "[[ 1241.7924996   5586.18144952   482.85976783 -1331.64406341\n",
            "   -128.79057354]] + [11410.14654726]\n"
          ]
        }
      ]
    },
    {
      "cell_type": "markdown",
      "source": [
        "### Salary Discrimination, Task 2"
      ],
      "metadata": {
        "id": "o-yGFA-nU7o4"
      }
    },
    {
      "cell_type": "code",
      "source": [
        "all_five_ft = sd_regressor.score(salary_ft_cols, salary)\n",
        "all_five_ft_intercept = sd_regressor.intercept_\n",
        "all_five_ft_coefficient = sd_regressor.coef_\n",
        "print(\"All Five R-squared Score: \", all_five_ft)\n",
        "print(\"Intercept for all Five: \", all_five_ft_intercept)\n",
        "print(\"All Five Coefficients: \", all_five_ft_coefficient)"
      ],
      "metadata": {
        "id": "qU-nH7bbU4wT",
        "outputId": "fab1fe65-7e1c-4cb1-8a66-aaebafd2e8c2",
        "colab": {
          "base_uri": "https://localhost:8080/"
        }
      },
      "execution_count": 30,
      "outputs": [
        {
          "output_type": "stream",
          "name": "stdout",
          "text": [
            "All Five R-squared Score:  0.8547180674410969\n",
            "Intercept for all Five:  [11410.14654726]\n",
            "All Five Coefficients:  [[ 1241.7924996   5586.18144952   482.85976783 -1331.64406341\n",
            "   -128.79057354]]\n"
          ]
        }
      ]
    },
    {
      "cell_type": "markdown",
      "source": [
        "The combination of all five columns performs best at 0.855. But, Sex alone is apparently not correlated to Salary."
      ],
      "metadata": {
        "id": "Juyz_e6jVGiL"
      }
    },
    {
      "cell_type": "code",
      "source": [
        "SRYD_salary_cols = df[[\"Sex\", \"Rank\", \"Year\", \"Degree\"]]\n",
        "SRYD_regressor = linear_model.LinearRegression()\n",
        "SRYD_regressor.fit(SRYD_salary_cols, salary)\n",
        "\n",
        "SRYD = SRYD_regressor.score(SRYD_salary_cols, salary)\n",
        "SRYD_intercept = SRYD_regressor.intercept_\n",
        "SRYD_coefficient = SRYD_regressor.coef_\n",
        "print(\"Sex, Rank, Year, & Degree R-squared Score: \", SRYD)\n",
        "print(\"Sex, Rank, Year, & Degree Intecercept\", SRYD_intercept)\n",
        "print(\"Sex, Rank, Year, & Degree Coefficients: \", SRYD_coefficient)"
      ],
      "metadata": {
        "id": "D2fEpB1RVBBm",
        "outputId": "f96de0a2-816f-49e0-e27b-f3aabc3ef524",
        "colab": {
          "base_uri": "https://localhost:8080/"
        }
      },
      "execution_count": 32,
      "outputs": [
        {
          "output_type": "stream",
          "name": "stdout",
          "text": [
            "Sex, Rank, Year, & Degree R-squared Score:  0.845547641297936\n",
            "Sex, Rank, Year, & Degree Intecercept [11101.27364777]\n",
            "Sex, Rank, Year, & Degree Coefficients:  [[ 608.10026674 4753.16913715  391.84035843 -134.21945255]]\n"
          ]
        }
      ]
    },
    {
      "cell_type": "code",
      "source": [
        "SRY_salary_cols = df[[\"Sex\", \"Rank\", \"Year\"]]\n",
        "SRY_regressor = linear_model.LinearRegression()\n",
        "SRY_regressor.fit(SRY_salary_cols, salary)\n",
        "\n",
        "SRY = SRY_regressor.score(SRY_salary_cols, salary)\n",
        "SRY_intercept = SRY_regressor.intercept_\n",
        "SRY_coefficient = SRY_regressor.coef_\n",
        "print(\"Sex, Rank, & Year R-squared Score: \", SRY)\n",
        "print(\"Sex, Rank, & Year Intecercept\", SRY_intercept)\n",
        "print(\"Sex, Rank, & Year Coefficients: \", SRY_coefficient)"
      ],
      "metadata": {
        "id": "kW5Xam3dVKRp",
        "outputId": "460db0f4-4f51-4304-e4ca-3ecb0b702bab",
        "colab": {
          "base_uri": "https://localhost:8080/"
        }
      },
      "execution_count": 33,
      "outputs": [
        {
          "output_type": "stream",
          "name": "stdout",
          "text": [
            "Sex, Rank, & Year R-squared Score:  0.8454319861987166\n",
            "Sex, Rank, & Year Intecercept [11011.76286539]\n",
            "Sex, Rank, & Year Coefficients:  [[ 603.77322722 4747.1829411   393.86147574]]\n"
          ]
        }
      ]
    },
    {
      "cell_type": "code",
      "source": [
        "SR_salary_cols = df[[\"Sex\", \"Rank\"]]\n",
        "SR_regressor = linear_model.LinearRegression()\n",
        "SR_regressor.fit(SR_salary_cols, salary)\n",
        "\n",
        "SR = SR_regressor.score(SR_salary_cols, salary)\n",
        "SR_intercept = SR_regressor.intercept_\n",
        "SR_coefficient = SR_regressor.coef_\n",
        "print(\"Sex & Rank R-squared Score: \", SR)\n",
        "print(\"Sex & Rank Intecercept\", SR_intercept)\n",
        "print(\"Sex & Rank Coefficients: \", SR_coefficient)\n"
      ],
      "metadata": {
        "id": "0gYxmjGIVSWG",
        "outputId": "ac7465b6-d393-4a57-810b-1cbc55fde4ed",
        "colab": {
          "base_uri": "https://localhost:8080/"
        }
      },
      "execution_count": 34,
      "outputs": [
        {
          "output_type": "stream",
          "name": "stdout",
          "text": [
            "Sex & Rank R-squared Score:  0.7554917749443395\n",
            "Sex & Rank Intecercept [12041.93823283]\n",
            "Sex & Rank Coefficients:  [[-738.12667504 5864.44325796]]\n"
          ]
        }
      ]
    },
    {
      "cell_type": "code",
      "source": [
        "sex_salary_col = df[[\"Sex\"]]\n",
        "sex_regressor = linear_model.LinearRegression()\n",
        "sex_regressor.fit(sex_salary_col, salary)\n",
        "\n",
        "sex = sex_regressor.score(sex_salary_col, salary)\n",
        "sex_intercept = sex_regressor.intercept_\n",
        "sex_coefficient = sex_regressor.coef_\n",
        "print(\"Sex R-squared Score: \", sex)\n",
        "print(\"Sex Intecercept\", sex_intercept)\n",
        "print(\"Sex Coefficients: \", sex_coefficient)"
      ],
      "metadata": {
        "id": "cCB6s0LFVVjk",
        "outputId": "86058e30-9aa9-4ace-da83-e7e8947939ec",
        "colab": {
          "base_uri": "https://localhost:8080/"
        }
      },
      "execution_count": 35,
      "outputs": [
        {
          "output_type": "stream",
          "name": "stdout",
          "text": [
            "Sex R-squared Score:  0.06389892583288004\n",
            "Sex Intecercept [24696.78947368]\n",
            "Sex Coefficients:  [[-3339.64661654]]\n"
          ]
        }
      ]
    },
    {
      "cell_type": "markdown",
      "source": [
        "### Salary Discrimination, Task 3"
      ],
      "metadata": {
        "id": "VJ-gPJzbVbyt"
      }
    },
    {
      "cell_type": "markdown",
      "source": [
        "* From aboe, we can see that the R-squred value of sex column is close to zero, i.e., 0.06389892583288004 which indicates that sex does not affect the salary that much. It has no direct influence on salary. Hence we can conclude that sex is not an effective factor in deciding salary."
      ],
      "metadata": {
        "id": "0zhDC8QLVd78"
      }
    }
  ],
  "metadata": {
    "kernelspec": {
      "display_name": "Python 3",
      "language": "python",
      "name": "python3"
    },
    "language_info": {
      "codemirror_mode": {
        "name": "ipython",
        "version": 3
      },
      "file_extension": ".py",
      "mimetype": "text/x-python",
      "name": "python",
      "nbconvert_exporter": "python",
      "pygments_lexer": "ipython3",
      "version": "3.8.3"
    },
    "colab": {
      "name": "Assignment5_6_7.ipynb",
      "provenance": [],
      "include_colab_link": true
    }
  },
  "nbformat": 4,
  "nbformat_minor": 0
}